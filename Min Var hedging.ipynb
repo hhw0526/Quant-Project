{
 "cells": [
  {
   "cell_type": "code",
   "execution_count": 1,
   "id": "07e07895",
   "metadata": {},
   "outputs": [],
   "source": [
    "import warnings\n",
    "warnings.filterwarnings(action='ignore')\n",
    "import pandas as pd\n",
    "import numpy as np\n",
    "import math\n",
    "from scipy.stats import norm\n",
    "from scipy import interpolate\n",
    "import matplotlib.pyplot as plt\n",
    "from scipy.misc import derivative\n",
    "from scipy.optimize import fsolve\n",
    "from scipy.optimize import minimize\n",
    "N = norm.cdf\n",
    "N2 = norm.sf\n",
    "\n",
    "def PowerOptionBS(S, K, T, r, q, sigma, n):\n",
    "    if T == 0:\n",
    "        return np.maximum((S**n - K), 0)\n",
    "    else:\n",
    "        d1 = (np.log(S / (K ** (1 / n))) + (r - q + (n - 0.5) * sigma ** 2) * T) / (sigma * np.sqrt(T))\n",
    "        d2 = d1 - n * sigma * np.sqrt(T)\n",
    "        return (S ** n) * np.exp(((n - 1) * (r + (n * sigma ** 2) / 2) - n * q) * T) * N(d1) - K * np.exp(-r * T) * N(d2) \n",
    " \n",
    "    \n",
    "def CallOptionBS(S, K, T, r, q, sigma):\n",
    "    if T == 0.0:\n",
    "        return np.maximum(S - K, 0)\n",
    "    else:\n",
    "        d1 = (np.log(S / K) + (r - q + sigma ** 2 / 2) * T) / (sigma * np.sqrt(T))\n",
    "        d2 = d1 - sigma * np.sqrt(T)\n",
    "        return S * np.exp(-q * T) * N(d1) - K * np.exp(-r * T) * N(d2)\n",
    "\n",
    "def upprob(st,s0,dt,r,q,sigma):\n",
    "    k = np.log(st/s0) - (r-q-0.5*sigma**2)*dt\n",
    "    return N2(k/(sigma*np.sqrt(dt)))\n",
    "def downprob(st,s0,dt,r,q,sigma):\n",
    "    k = np.log(st/s0) - (r-q-0.5*sigma**2)*dt\n",
    "    return 1-N2(k/(sigma*np.sqrt(dt)))\n",
    "def intprob(sa,sb,s0,dt,r,q,sigma):\n",
    "    return downprob(sb,s0,dt,r,q,sigma) - downprob(sa,s0,dt,r,q,sigma)"
   ]
  },
  {
   "cell_type": "code",
   "execution_count": 2,
   "id": "5d5ef1db",
   "metadata": {},
   "outputs": [],
   "source": [
    "def var(loss,s0,K,T,dt,r,q,sigma,n,hedge,prob):\n",
    "    i = 0.3+np.floor(dt*250/60)*0.3\n",
    "    smax = np.ceil(s0*(1+i))\n",
    "    smin = np.floor(s0*(1-i))\n",
    "    if smin<0:\n",
    "        smin = s0*0.1\n",
    "    SS = np.arange(smin,smax+1,1)\n",
    "    B = PowerOptionBS(s0, K**n, T, r, q, sigma, n)\n",
    "    PO = PowerOptionBS(SS, K**n, T-dt, r, q, sigma, n)\n",
    "    Call = CallOptionBS(SS, K, T-dt, r, q, sigma)\n",
    "    yToFind = loss\n",
    "    yreduced = np.array(B-PO+hedge*(SS-s0)) + yToFind\n",
    "    freduced = interpolate.UnivariateSpline(SS, yreduced, s=0)\n",
    "    x = freduced.roots()\n",
    "    dx = derivative(freduced, freduced.roots(), dx=1e-6)\n",
    "    N = x.shape[0]\n",
    "    if N==0:\n",
    "        return 1\n",
    "    if N%2==0:\n",
    "        if dx[0]>0:\n",
    "            na = int(N/2)\n",
    "            p = downprob(x[0],s0,dt,r,q,sigma)-prob\n",
    "            for i in range(0,na-1):\n",
    "                p+= intprob(x[2*i-1],x[2*i],s0,dt,r,q,sigma)\n",
    "            return p+upprob(x[N-1],s0,dt,r,q,sigma)\n",
    "        else:\n",
    "            na = int(N/2)\n",
    "            p = -prob\n",
    "            for i in range(0,na):\n",
    "                p+= intprob(x[2*i],x[2*i+1],s0,dt,r,q,sigma)\n",
    "            return p\n",
    "    else:\n",
    "        if dx[0]>0:\n",
    "            na = int((N+1)/2)\n",
    "            p = downprob(x[0],s0,dt,r,q,sigma)-prob\n",
    "            for i in range(0,na-1):\n",
    "                p+= intprob(x[2*i-1],x[2*i],s0,dt,r,q,sigma)\n",
    "            return p\n",
    "        else:\n",
    "            na = int((N+1)/2)\n",
    "            p = upprob(x[-1],s0,dt,r,q,sigma)-prob\n",
    "            for i in range(0,na-1):\n",
    "                p+= intprob(x[2*i],x[2*i+1],s0,dt,r,q,sigma)\n",
    "            return p\n",
    "        \n",
    "def var2(loss,s0,K,T,dt,r,q,sigma,n,hedge,prob):\n",
    "    x1 = hedge[0]\n",
    "    x2 = hedge[1]\n",
    "    i = 0.3+np.floor(dt*250/60)*0.3\n",
    "    smax = np.ceil(s0*(1+i))\n",
    "    smin = np.floor(s0*(1-i))\n",
    "    if smin<0:\n",
    "        smin = s0*0.1\n",
    "    SS = np.arange(smin,smax+1,1)\n",
    "    CC = CallOptionBS(s0, K, T, r, q, sigma)\n",
    "    B = PowerOptionBS(s0, K**n, T, r, q, sigma, n)\n",
    "    PO = PowerOptionBS(SS, K**n, T-dt, r, q, sigma, n)\n",
    "    Call = CallOptionBS(SS, K, T-dt, r, q, sigma)\n",
    "    yToFind = loss\n",
    "    yreduced = np.array(B-PO+x1*(SS-s0)+x2*(Call-CC)) + yToFind\n",
    "    freduced = interpolate.UnivariateSpline(SS, yreduced, s=0)\n",
    "    x = freduced.roots()\n",
    "    dx = derivative(freduced, freduced.roots(), dx=1e-6)\n",
    "    N = x.shape[0]\n",
    "    if N==0:\n",
    "        return 1\n",
    "    if N%2==0:\n",
    "        if dx[0]>0:\n",
    "            na = int(N/2)\n",
    "            p = downprob(x[0],s0,dt,r,q,sigma)-prob\n",
    "            for i in range(0,na-1):\n",
    "                p+= intprob(x[2*i-1],x[2*i],s0,dt,r,q,sigma)\n",
    "            return p+upprob(x[N-1],s0,dt,r,q,sigma)\n",
    "        else:\n",
    "            na = int(N/2)\n",
    "            p = -prob\n",
    "            for i in range(0,na):\n",
    "                p+= intprob(x[2*i],x[2*i+1],s0,dt,r,q,sigma)\n",
    "            return p\n",
    "    else:\n",
    "        if dx[0]>0:\n",
    "            na = int((N+1)/2)\n",
    "            p = downprob(x[0],s0,dt,r,q,sigma)-prob\n",
    "            for i in range(0,na-1):\n",
    "                p+= intprob(x[2*i-1],x[2*i],s0,dt,r,q,sigma)\n",
    "            return p\n",
    "        else:\n",
    "            na = int((N+1)/2)\n",
    "            p = upprob(x[-1],s0,dt,r,q,sigma)-prob\n",
    "            for i in range(0,na-1):\n",
    "                p+= intprob(x[2*i],x[2*i+1],s0,dt,r,q,sigma)\n",
    "            return p\n",
    "\n",
    "def var4(loss,s0,K,T,dt,r,q,sigma,n,hedge,prob):\n",
    "    x1 = hedge[0]\n",
    "    x2 = hedge[1]\n",
    "    x3 = hedge[2]\n",
    "    x4 = hedge[3]\n",
    "    i = 0.3+np.floor(dt*250/60)*0.3\n",
    "    smax = np.ceil(s0*(1+i))\n",
    "    smin = np.floor(s0*(1-i))\n",
    "    if smin<0:\n",
    "        smin = s0*0.1\n",
    "    SS = np.arange(smin,smax+1,1)\n",
    "    CC1 = CallOptionBS(s0, K, T, r, q, sigma)\n",
    "    CC2 = CallOptionBS(s0, 0.5*K, T, r, q, sigma)\n",
    "    CC3 = CallOptionBS(s0, 2*K, T, r, q, sigma)\n",
    "    B = PowerOptionBS(s0, K**n, T, r, q, sigma, n)\n",
    "    PO = PowerOptionBS(SS, K**n, T-dt, r, q, sigma, n)\n",
    "    Call1 = CallOptionBS(SS, K, T-dt, r, q, sigma)\n",
    "    Call2 = CallOptionBS(SS, 0.5*K, T-dt, r, q, sigma)\n",
    "    Call3 = CallOptionBS(SS, 2*K, T-dt, r, q, sigma)\n",
    "    yToFind = loss\n",
    "    yreduced = np.array(B-PO+x1*(SS-s0)+x2*(Call1-CC1)+x3*(Call2-CC2)+x4*(Call3-CC3)) + yToFind\n",
    "    freduced = interpolate.UnivariateSpline(SS, yreduced, s=0)\n",
    "    x = freduced.roots()\n",
    "    dx = derivative(freduced, freduced.roots(), dx=1e-6)\n",
    "    N = x.shape[0]\n",
    "    if N==0:\n",
    "        return 1\n",
    "    if N%2==0:\n",
    "        if dx[0]>0:\n",
    "            na = int(N/2)\n",
    "            p = downprob(x[0],s0,dt,r,q,sigma)-prob\n",
    "            for i in range(0,na-1):\n",
    "                p+= intprob(x[2*i-1],x[2*i],s0,dt,r,q,sigma)\n",
    "            return p+upprob(x[N-1],s0,dt,r,q,sigma)\n",
    "        else:\n",
    "            na = int(N/2)\n",
    "            p = -prob\n",
    "            for i in range(0,na):\n",
    "                p+= intprob(x[2*i],x[2*i+1],s0,dt,r,q,sigma)\n",
    "            return p\n",
    "    else:\n",
    "        if dx[0]>0:\n",
    "            na = int((N+1)/2)\n",
    "            p = downprob(x[0],s0,dt,r,q,sigma)-prob\n",
    "            for i in range(0,na-1):\n",
    "                p+= intprob(x[2*i-1],x[2*i],s0,dt,r,q,sigma)\n",
    "            return p\n",
    "        else:\n",
    "            na = int((N+1)/2)\n",
    "            p = upprob(x[-1],s0,dt,r,q,sigma)-prob\n",
    "            for i in range(0,na-1):\n",
    "                p+= intprob(x[2*i],x[2*i+1],s0,dt,r,q,sigma)\n",
    "            return p"
   ]
  },
  {
   "cell_type": "code",
   "execution_count": 3,
   "id": "25707de7",
   "metadata": {},
   "outputs": [],
   "source": [
    "s0 = 100\n",
    "q = 0\n",
    "r = 0.02\n",
    "sigma = 0.3\n",
    "T = 1\n",
    "dt = 1/250\n",
    "days = 250\n",
    "K = 100\n",
    "n = 2\n",
    "prob = 0.05\n",
    "B = PowerOptionBS(s0, K, T, r, q, sigma, n)"
   ]
  },
  {
   "cell_type": "code",
   "execution_count": 4,
   "id": "ab35329a",
   "metadata": {},
   "outputs": [],
   "source": [
    "def hedge_var(hedge,s0,K,T,dt,r,q,sigma,n,prob):\n",
    "    \n",
    "    root = fsolve(var,0, args=(s0,K,T,dt,r,q,sigma,n,hedge,prob))\n",
    "    return float(root)\n",
    "def optimal_hedge(s0,K,T,dt,r,q,sigma,n,prob):\n",
    "    Optimum = minimize(hedge_var,100,args=(s0,K,T,dt,r,q,sigma,n,prob))\n",
    "    return Optimum.x\n",
    "\n",
    "def hedge_var2(hedge,s0,K,T,dt,r,q,sigma,n,prob):\n",
    "    \n",
    "    root = fsolve(var2,0, args=(s0,K,T,dt,r,q,sigma,n,hedge,prob))\n",
    "    return float(root)\n",
    "def optimal_hedge2(s0,K,T,dt,r,q,sigma,n,prob):\n",
    "    Optimum = minimize(hedge_var2,[100,10],args=(s0,K,T,dt,r,q,sigma,n,prob))\n",
    "    return Optimum.x\n",
    "def hedge_var4(hedge,s0,K,T,dt,r,q,sigma,n,prob):\n",
    "    \n",
    "    root = fsolve(var4,0, args=(s0,K,T,dt,r,q,sigma,n,hedge,prob))\n",
    "    return float(root)\n",
    "def optimal_hedge4(s0,K,T,dt,r,q,sigma,n,prob):\n",
    "    Optimum = minimize(hedge_var4,[100,10,10,10],args=(s0,K,T,dt,r,q,sigma,n,prob))\n",
    "    return Optimum.x\n",
    "def constraint(x,s0,K,T,dt,r,q,sigma,B):\n",
    "    C = CallOptionBS(s0, K, T, r, q, sigma)\n",
    "    return float(B-x[0]*s0-x[1]*C)\n",
    "def balance_optimal_hedge2(s0,K,T,dt,r,q,sigma,n,prob,B):\n",
    "    con = {'type': 'ineq', 'fun': constraint, 'args':(s0,K,T,dt,r,q,sigma,B)}\n",
    "    Optimum = minimize(hedge_var2,[100,10],args=(s0,K,T,dt,r,q,sigma,n,prob),constraints = con)\n",
    "    return Optimum.x\n",
    "def long_optimal_hedge2(s0,K,T,dt,r,q,sigma,n,prob,B):\n",
    "    con = {'type': 'ineq', 'fun': constraint, 'args':(s0,K,T,dt,r,q,sigma,B)}\n",
    "    C = CallOptionBS(s0, K, T, r, q, sigma)\n",
    "    bnds =((0,B/s0),(0,B/C))\n",
    "    Optimum = minimize(hedge_var2,[100,10],args=(s0,K,T,dt,r,q,sigma,n,prob),bounds = bnds,constraints = con)\n",
    "    return Optimum.x"
   ]
  },
  {
   "cell_type": "code",
   "execution_count": 5,
   "id": "6d477a56",
   "metadata": {},
   "outputs": [
    {
     "data": {
      "text/plain": [
       "array([155.64544657])"
      ]
     },
     "execution_count": 5,
     "metadata": {},
     "output_type": "execute_result"
    }
   ],
   "source": [
    "optimal_hedge(s0,100,T,dt,r,q,sigma,2,0.05)"
   ]
  },
  {
   "cell_type": "code",
   "execution_count": 6,
   "id": "9110d7cb",
   "metadata": {},
   "outputs": [
    {
     "data": {
      "text/plain": [
       "array([-32.68300731, 321.47173432])"
      ]
     },
     "execution_count": 6,
     "metadata": {},
     "output_type": "execute_result"
    }
   ],
   "source": [
    "optimal_hedge2(s0,100,T,dt,r,q,sigma,2,0.05)"
   ]
  },
  {
   "cell_type": "code",
   "execution_count": 7,
   "id": "2b08b91c",
   "metadata": {},
   "outputs": [
    {
     "name": "stdout",
     "output_type": "stream",
     "text": [
      "[-32.68300731 321.47173432]\n",
      "0.2511551606148924\n"
     ]
    }
   ],
   "source": [
    "x1 = optimal_hedge2(s0,K,T,dt,r,q,sigma,n,0.05)\n",
    "print(x1)\n",
    "print(hedge_var2(x1,s0,K,T,dt,r,q,sigma,n,prob))"
   ]
  },
  {
   "cell_type": "code",
   "execution_count": 8,
   "id": "ca7d019e",
   "metadata": {},
   "outputs": [
    {
     "name": "stdout",
     "output_type": "stream",
     "text": [
      "[-43.52377006 339.86378206]\n",
      "0.738163406070529\n"
     ]
    }
   ],
   "source": [
    "x2 = balance_optimal_hedge2(s0,K,T,dt,r,q,sigma,n,0.05,B)\n",
    "print(x2)\n",
    "print(hedge_var2(x2,s0,K,T,dt,r,q,sigma,n,prob))"
   ]
  },
  {
   "cell_type": "code",
   "execution_count": 9,
   "id": "3e43afa3",
   "metadata": {},
   "outputs": [
    {
     "name": "stdout",
     "output_type": "stream",
     "text": [
      "[1.01119488e-12 2.65719624e+02]\n",
      "3.5571130361802483\n"
     ]
    }
   ],
   "source": [
    "x3 = long_optimal_hedge2(s0,K,T,dt,r,q,sigma,n,0.05,B)\n",
    "print(x3)\n",
    "print(hedge_var2(x3,s0,K,T,dt,r,q,sigma,n,prob))"
   ]
  },
  {
   "cell_type": "code",
   "execution_count": 10,
   "id": "96335f56",
   "metadata": {},
   "outputs": [],
   "source": [
    "SS = np.arange(70,131,1)\n",
    "CC1 = CallOptionBS(s0, 100, T, r, q, sigma)\n",
    "CC2 = CallOptionBS(s0, 50, T, r, q, sigma)\n",
    "CC3 = CallOptionBS(s0, 200, T, r, q, sigma)\n",
    "B = PowerOptionBS(s0, 10000, T, r, q, sigma, 2)\n",
    "PO = PowerOptionBS(SS, 10000, T-dt, r, q, sigma, 2)\n",
    "Call1 = CallOptionBS(SS, 100, T-dt, r, q, sigma)\n",
    "Call2 = CallOptionBS(SS, 50, T-dt, r, q, sigma)\n",
    "Call3 = CallOptionBS(SS, 200, T-dt, r, q, sigma)"
   ]
  },
  {
   "cell_type": "code",
   "execution_count": 11,
   "id": "58ec5a90",
   "metadata": {},
   "outputs": [
    {
     "data": {
      "image/png": "[encoded data removed]",
      "text/plain": [
       "<Figure size 640x480 with 1 Axes>"
      ]
     },
     "metadata": {},
     "output_type": "display_data"
    }
   ],
   "source": [
    "plt.plot(SS,B-PO+x1[0]*(SS-s0)+x1[1]*(Call1-CC1),label = \"Unconstrained\")\n",
    "plt.plot(SS,B-PO+x2[0]*(SS-s0)+x2[1]*(Call1-CC1),label = \"Budget Constrained\")\n",
    "plt.plot(SS,B-PO+x3[0]*(SS-s0)+x3[1]*(Call1-CC1),label = \"Long Only\")\n",
    "plt.xlim(90,110)\n",
    "plt.ylim(-30,30)\n",
    "plt.legend(loc = \"upper left\")\n",
    "plt.show()"
   ]
  },
  {
   "cell_type": "code",
   "execution_count": null,
   "id": "cec3f5d1",
   "metadata": {},
   "outputs": [],
   "source": []
  }
 ],
 "metadata": {
  "kernelspec": {
   "display_name": "Python 3 (ipykernel)",
   "language": "python",
   "name": "python3"
  },
  "language_info": {
   "codemirror_mode": {
    "name": "ipython",
    "version": 3
   },
   "file_extension": ".py",
   "mimetype": "text/x-python",
   "name": "python",
   "nbconvert_exporter": "python",
   "pygments_lexer": "ipython3",
   "version": "3.11.5"
  }
 },
 "nbformat": 4,
 "nbformat_minor": 5
}
